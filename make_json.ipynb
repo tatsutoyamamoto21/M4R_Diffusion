{
 "cells": [
  {
   "cell_type": "code",
   "execution_count": 1,
   "metadata": {},
   "outputs": [
    {
     "name": "stdout",
     "output_type": "stream",
     "text": [
      "Generated data.jsonl with 202594 entries.\n"
     ]
    }
   ],
   "source": [
    "import json\n",
    "\n",
    "# Define the output file name\n",
    "output_file = \"data.jsonl\"\n",
    "\n",
    "# Define the total number of images\n",
    "num_images = 202594\n",
    "\n",
    "# Open the file and write line by line\n",
    "with open(output_file, \"w\") as f:\n",
    "    for i in range(1, num_images + 1):\n",
    "        # Format the file index as six-digit zero-padded string\n",
    "        file_index = f\"{i:06d}.jpg\"\n",
    "        \n",
    "        # Create the JSON object\n",
    "        entry = {\n",
    "            \"text\": \"Colorize this greyscale image into colour.\",\n",
    "            \"image\": f\"images/{file_index}\",\n",
    "            \"conditioning_image\": f\"conditioning_images/{file_index}\"\n",
    "        }\n",
    "\n",
    "        # Write the JSON object as a line in the file\n",
    "        f.write(json.dumps(entry) + \"\\n\")\n",
    "\n",
    "print(f\"Generated {output_file} with {num_images} entries.\")\n"
   ]
  },
  {
   "cell_type": "code",
   "execution_count": 3,
   "metadata": {},
   "outputs": [
    {
     "name": "stdout",
     "output_type": "stream",
     "text": [
      "Generated church256_100k.jsonl with 100000 entries.\n"
     ]
    }
   ],
   "source": [
    "import json\n",
    "\n",
    "# Define the output file name\n",
    "output_file = \"church256_100k.jsonl\"\n",
    "\n",
    "# Define the total number of images\n",
    "num_images = 100000\n",
    "\n",
    "# Open the file and write line by line\n",
    "with open(output_file, \"w\") as f:\n",
    "    for i in range(0, num_images):\n",
    "        # Format the file index as six-digit zero-padded string\n",
    "        file_index = f\"{i:06d}.jpg\"\n",
    "        \n",
    "        # Create the JSON object\n",
    "        entry = {\n",
    "            \"text\": \"Colorize this black and white image.\",\n",
    "            \"image\": f\"images/{file_index}\",\n",
    "            \"conditioning_image\": f\"conditioning_images/{file_index}\"\n",
    "        }\n",
    "\n",
    "        # Write the JSON object as a line in the file\n",
    "        f.write(json.dumps(entry) + \"\\n\")\n",
    "\n",
    "print(f\"Generated {output_file} with {num_images} entries.\")"
   ]
  },
  {
   "cell_type": "code",
   "execution_count": null,
   "metadata": {},
   "outputs": [],
   "source": []
  }
 ],
 "metadata": {
  "kernelspec": {
   "display_name": "Python 3",
   "language": "python",
   "name": "python3"
  },
  "language_info": {
   "codemirror_mode": {
    "name": "ipython",
    "version": 3
   },
   "file_extension": ".py",
   "mimetype": "text/x-python",
   "name": "python",
   "nbconvert_exporter": "python",
   "pygments_lexer": "ipython3",
   "version": "3.11.4"
  }
 },
 "nbformat": 4,
 "nbformat_minor": 2
}
